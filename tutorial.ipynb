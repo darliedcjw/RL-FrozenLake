{
 "cells": [
  {
   "cell_type": "code",
   "execution_count": null,
   "metadata": {},
   "outputs": [],
   "source": [
    "! py -m pip install --upgrade pip\n",
    "! pip install wheel setuptools pip --upgrade\n",
    "! pip install swig\n",
    "! pip install gymnasium[box2d]\n",
    "! pip install moviepy\n",
    "! pip install numpy\n",
    "! pip install -U matplotlib"
   ]
  },
  {
   "cell_type": "markdown",
   "metadata": {},
   "source": [
    "# Remarks\n",
    "\n",
    "If the video does not work, it is advisable to restart the entire kernel after the initial installation."
   ]
  },
  {
   "cell_type": "code",
   "execution_count": null,
   "metadata": {},
   "outputs": [],
   "source": [
    "import gymnasium\n",
    "from gymnasium.wrappers.monitoring.video_recorder import VideoRecorder\n",
    "\n",
    "env = gymnasium.make(\n",
    "    \"LunarLander-v2\",\n",
    "    continuous = False,\n",
    "    gravity = -10.0,\n",
    "    enable_wind = False,\n",
    "    wind_power = 15.0,\n",
    "    turbulence_power = 1.5,\n",
    "    render_mode = \"rgb_array\"\n",
    ")\n",
    "\n",
    "observation, info = env.reset()\n",
    "videoPath = \"video.mp4\"\n",
    "video = VideoRecorder(env, videoPath)\n",
    "\n",
    "for _ in range(200):\n",
    "    env.render()\n",
    "    video.capture_frame()\n",
    "    action = env.action_space.sample()\n",
    "    observation, reward, terminated, truncated, info = env.step(action)\n",
    "    print(observation, reward, terminated, truncated, info)\n",
    "\n",
    "video.close()\n",
    "env.close()"
   ]
  },
  {
   "cell_type": "markdown",
   "metadata": {},
   "source": [
    "# Training the Lunar Lander"
   ]
  },
  {
   "cell_type": "code",
   "execution_count": null,
   "metadata": {},
   "outputs": [],
   "source": [
    "import numpy as np\n",
    "import matplotlib.pyplot as plt\n",
    "import gymnasium as gym\n",
    "import itertools"
   ]
  },
  {
   "cell_type": "code",
   "execution_count": null,
   "metadata": {},
   "outputs": [],
   "source": [
    "env = gym.make(\n",
    "        \"LunarLander-v2\",\n",
    "        continuous = False,\n",
    "        gravity = -10.0,\n",
    "        enable_wind = False,\n",
    "        wind_power = 15.0,\n",
    "        turbulence_power = 1.5,\n",
    "        render_mode = \"rgb_array\"\n",
    ")\n",
    "\n",
    "# Lower and higher limits of observation space\n",
    "observationSpaceLow = (-1.5, -1.5, -5., -5., -3.1415927, -5., -0., -0.)\n",
    "observationSpaceHigh = (1.5, 1.5, 5., 5., 3.1415927, 5., 1., 1.)\n",
    "observationSpace = list(zip(observationSpaceLow,observationSpaceHigh))\n",
    "\n",
    "# Create bins/intervals for observations\n",
    "def makeIntervals(observationSpace, intervals=10):\n",
    "    observationsInterval = []\n",
    "    \n",
    "    for observation in observationSpace[:-2]:\n",
    "        observationInterval = []\n",
    "        stepSize = (observation[1] - observation[0]) / intervals\n",
    "        \n",
    "        for step in np.arange(observation[0], observation[1]+stepSize, stepSize):\n",
    "            observationInterval.append(step)\n",
    "        \n",
    "        observationsInterval.append(observationInterval)\n",
    "        \n",
    "    for _ in range(2):\n",
    "        observationsInterval.append([0., 1.])\n",
    "    \n",
    "    return observationsInterval\n",
    "\n",
    "def makeQTable(observationsInterval, n_action):\n",
    "    QTable = {}\n",
    "    permutations = list(itertools.product(*observationsInterval))\n",
    "    for permutation in permutations:\n",
    "        QTable[permutation] = [0.] * n_action\n",
    "\n",
    "    return QTable\n",
    "\n",
    "# Check state\n",
    "def checkInterval(observations, observationsInterval, observationSpace):\n",
    "    observationsKey = ()\n",
    "\n",
    "    # For each observation\n",
    "    for index, observation in enumerate(observations[:6]):\n",
    "        \n",
    "        # Process Angle\n",
    "        if index == 4 or index == 5:\n",
    "            observation = observation % 3.1415927,\n",
    "\n",
    "        # Clip Limits\n",
    "        clipObservation = np.clip(observation, observationSpace[index][0], observationSpace[index][1])\n",
    "        \n",
    "        for lower, upper in zip(observationsInterval[index][:-1], observationsInterval[index][1:]):\n",
    "            if lower <= clipObservation < upper or clipObservation == upper:\n",
    "                observationsKey += (lower,)\n",
    "                break\n",
    "\n",
    "    left, right = observations[-2:]\n",
    "    observationsKey += (left, right,)\n",
    "\n",
    "    return observationsKey"
   ]
  },
  {
   "cell_type": "code",
   "execution_count": null,
   "metadata": {},
   "outputs": [],
   "source": [
    "observationsInterval =  makeIntervals(observationSpace, intervals=3)\n",
    "QTable = makeQTable(observationsInterval, env.action_space.n)\n",
    "len(QTable)"
   ]
  },
  {
   "cell_type": "code",
   "execution_count": null,
   "metadata": {},
   "outputs": [],
   "source": [
    "def greedyEPS(epsStart, epsEnd, epsDecay, step):\n",
    "    return epsEnd + (epsStart - epsEnd) * np.exp(-1 * step / epsDecay)\n",
    "\n",
    "# Example of EPS\n",
    "epsStart = 1.0\n",
    "epsEnd = 0.0\n",
    "epsDecay = 70\n",
    "step = np.arange(0, 100, 1)\n",
    "eps = greedyEPS(epsStart, epsEnd, epsDecay, step)\n",
    "\n",
    "plt.plot(step, eps)\n",
    "plt.xlabel(\"Steps\")\n",
    "plt.ylabel(\"EPS\")"
   ]
  },
  {
   "cell_type": "code",
   "execution_count": null,
   "metadata": {},
   "outputs": [],
   "source": [
    "epsStart = 1.0\n",
    "epsEnd = 0.0\n",
    "epsDecay = 70\n",
    "learningRate = 0.1\n",
    "discountedEstimate = 0.95\n",
    "episodes = 100000\n",
    "maxSteps = 100\n",
    "\n",
    "for episode in range(episodes):\n",
    "    print(\"Starting Episode: \", episode)\n",
    "    currentObservations, _ = env.reset()\n",
    "\n",
    "    for step in range(maxSteps):\n",
    "        eps = greedyEPS(epsStart, epsEnd, epsDecay, episode)\n",
    "        action = env.action_space.sample() if np.random.random() < eps else np.argmax(QTable[checkInterval(currentObservations, observationsInterval, observationSpace)])\n",
    "        newObservations, reward, termination, truncation, info = env.step(action)\n",
    "        currentObservationsKey = checkInterval(currentObservations, observationsInterval, observationSpace)\n",
    "        newObservationsKey = checkInterval(newObservations, observationsInterval, observationSpace)\n",
    "        QTable[currentObservationsKey][action] = QTable[currentObservationsKey][action] + learningRate * (reward + 0.95 * np.max(QTable[newObservationsKey]) - QTable[currentObservationsKey][action])\n",
    "\n",
    "        if termination or truncation:\n",
    "            break\n",
    "\n",
    "        currentObservations = newObservations    "
   ]
  },
  {
   "cell_type": "code",
   "execution_count": null,
   "metadata": {},
   "outputs": [],
   "source": [
    "import gymnasium\n",
    "from gymnasium.wrappers.monitoring.video_recorder import VideoRecorder\n",
    "\n",
    "env = gymnasium.make(\n",
    "    \"LunarLander-v2\",\n",
    "    continuous = False,\n",
    "    gravity = -10.0,\n",
    "    enable_wind = False,\n",
    "    wind_power = 15.0,\n",
    "    turbulence_power = 1.5,\n",
    "    render_mode = \"rgb_array\"\n",
    ")\n",
    "\n",
    "observation, info = env.reset()\n",
    "videoPath = \"video.mp4\"\n",
    "video = VideoRecorder(env, videoPath)\n",
    "\n",
    "for step in range(200):\n",
    "    env.render()\n",
    "    video.capture_frame()\n",
    "    action = np.argmax(QTable[checkInterval(currentObservations, observationsInterval, observationSpace)])\n",
    "    newObservation, reward, termination, truncation, info = env.step(action)\n",
    "    \n",
    "    if termination or truncation:\n",
    "        break\n",
    "\n",
    "    observation = newObservation\n",
    "\n",
    "video.close()\n",
    "env.close()"
   ]
  },
  {
   "cell_type": "code",
   "execution_count": null,
   "metadata": {},
   "outputs": [],
   "source": [
    "len(QTable)"
   ]
  },
  {
   "cell_type": "code",
   "execution_count": null,
   "metadata": {},
   "outputs": [],
   "source": []
  }
 ],
 "metadata": {
  "kernelspec": {
   "display_name": "venv",
   "language": "python",
   "name": "python3"
  },
  "language_info": {
   "codemirror_mode": {
    "name": "ipython",
    "version": 3
   },
   "file_extension": ".py",
   "mimetype": "text/x-python",
   "name": "python",
   "nbconvert_exporter": "python",
   "pygments_lexer": "ipython3",
   "version": "3.11.2"
  }
 },
 "nbformat": 4,
 "nbformat_minor": 2
}
